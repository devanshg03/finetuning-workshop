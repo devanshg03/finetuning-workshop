{
 "cells": [
  {
   "cell_type": "markdown",
   "metadata": {},
   "source": [
    "# Finetuning Microsoft Phi 3.5 Mini Instruct\n",
    "\n",
    "This notebook guides you through the process of finetuning the Microsoft Phi 3.5 Mini Instruct model using QLoRA (Quantized Low-Rank Adaptation) on your WhatsApp chat data. Follow these steps:\n",
    "\n",
    "1. Run QLoRA training on the pre-quantized model\n",
    "2. Test the finetuned model\n",
    "3. Generate text using the finetuned model"
   ]
  },
  {
   "cell_type": "code",
   "execution_count": null,
   "metadata": {},
   "outputs": [],
   "source": [
    "# Run QLoRA Training on Quantized Model (Already Prepared by Decisions Lab)\n",
    "! mlx_lm.lora --model decisionslab/Phi-3.5-mini-instruct-4bit \\\n",
    "    --data data/whatsapp/ \\\n",
    "    --train \\\n",
    "    --batch-size 2"
   ]
  },
  {
   "cell_type": "code",
   "execution_count": null,
   "metadata": {},
   "outputs": [],
   "source": [
    "! mlx_lm.lora --model decisionslab/Phi-3.5-mini-instruct-4bit \\\n",
    "    --adapter-path ./adapters \\\n",
    "    --data data/whatsapp/ \\\n",
    "    --test"
   ]
  },
  {
   "cell_type": "code",
   "execution_count": null,
   "metadata": {},
   "outputs": [],
   "source": [
    "! mlx_lm.generate --model ./Phi-3.5-mini-instruct-4bit \\\n",
    "    --adapter-path ./adapters \\\n",
    "    --prompt \"You a student at the University of Hong Kong. Respond to the following text sent by your friend: 'Hi, how are you doing?' <thoughts>Your's thoughts</thoughts> tags. Then add your response in a <response>Your response</response> tag. We can only see your answer in the response tag.\"\\\n",
    "    --max-tokens 500"
   ]
  }
 ],
 "metadata": {
  "kernelspec": {
   "display_name": "Python 3",
   "language": "python",
   "name": "python3"
  },
  "language_info": {
   "codemirror_mode": {
    "name": "ipython",
    "version": 3
   },
   "file_extension": ".py",
   "mimetype": "text/x-python",
   "name": "python",
   "nbconvert_exporter": "python",
   "pygments_lexer": "ipython3",
   "version": "3.11.7"
  }
 },
 "nbformat": 4,
 "nbformat_minor": 2
}
