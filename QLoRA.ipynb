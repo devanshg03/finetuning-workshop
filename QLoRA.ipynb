{
 "cells": [
  {
   "cell_type": "code",
   "execution_count": null,
   "metadata": {},
   "outputs": [],
   "source": [
    "%pip install mlx"
   ]
  },
  {
   "cell_type": "code",
   "execution_count": null,
   "metadata": {},
   "outputs": [],
   "source": [
    "%pip install mlx_lm"
   ]
  },
  {
   "cell_type": "code",
   "execution_count": null,
   "metadata": {},
   "outputs": [],
   "source": [
    "import os\n",
    "\n",
    "os.environ['HF_HUB_ENABLE_HF_TRANSFER'] = '1'"
   ]
  },
  {
   "cell_type": "code",
   "execution_count": null,
   "metadata": {},
   "outputs": [],
   "source": [
    "# Create a quantized model\n",
    "! mlx_lm.convert --hf-path microsoft/Phi-3.5-mini-instruct \\\n",
    "    --mlx-path ./Phi-3.5-mini-instruct-4bit \\\n",
    "    --h"
   ]
  },
  {
   "cell_type": "code",
   "execution_count": null,
   "metadata": {},
   "outputs": [],
   "source": [
    "# Run QLoRA Training on Quantized Model\n",
    "! mlx_lm.lora --model ./Phi-3.5-mini-instruct-4bit \\\n",
    "    --data data/whatsapp/ \\\n",
    "    --train \\\n",
    "    --batch-size 2 \\\n",
    "    --lora-layers -1"
   ]
  },
  {
   "cell_type": "code",
   "execution_count": null,
   "metadata": {},
   "outputs": [],
   "source": [
    "! mlx_lm.generate --model ./Phi-3.5-mini-instruct-4bit \\\n",
    "    --adapter-path ./adapters \\\n",
    "    --prompt \"You are Devansh Gandhi, a student at the University of Hong Kong. Respond to the following text sent by your friend: 'Wanna go to the workshop on fine-tuning?' <thoughts>Your's thoughts</thoughts> tags. Then add your response in a <response>Your response</response> tag. We can only see your answer in the response tag.\"\\\n",
    "    --max-tokens 500"
   ]
  },
  {
   "cell_type": "code",
   "execution_count": null,
   "metadata": {},
   "outputs": [],
   "source": [
    "! mlx_lm.fuse --model decisionslab/Phi-3.5-mini-instruct-4bit \\\n",
    "    --adapter-path ./adapters \\\n",
    "    --hf-path microsoft/Phi-3.5-mini-instruct \\\n",
    "    --save-path ./models/Phi-3.5-mini-instruct-4-bit-HK \\\n",
    "    --upload-repo decisionslab/Phi-3.5-mini-instruct-4-bit-HK"
   ]
  }
 ],
 "metadata": {
  "kernelspec": {
   "display_name": "Python 3",
   "language": "python",
   "name": "python3"
  },
  "language_info": {
   "codemirror_mode": {
    "name": "ipython",
    "version": 3
   },
   "file_extension": ".py",
   "mimetype": "text/x-python",
   "name": "python",
   "nbconvert_exporter": "python",
   "pygments_lexer": "ipython3",
   "version": "3.11.7"
  }
 },
 "nbformat": 4,
 "nbformat_minor": 2
}
