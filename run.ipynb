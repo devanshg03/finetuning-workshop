{
 "cells": [
  {
   "cell_type": "code",
   "execution_count": 2,
   "metadata": {},
   "outputs": [
    {
     "data": {
      "application/vnd.jupyter.widget-view+json": {
       "model_id": "afbd719be172494d97263042c4408c26",
       "version_major": 2,
       "version_minor": 0
      },
      "text/plain": [
       "Fetching 11 files:   0%|          | 0/11 [00:00<?, ?it/s]"
      ]
     },
     "metadata": {},
     "output_type": "display_data"
    }
   ],
   "source": [
    "from mlx_lm import load, generate\n",
    "\n",
    "model, tokenizer = load(\"decisionslab/Phi-3.5-mini-instruct-4-bit-HK\", tokenizer_config={\"eos_token\": \"<|end|>\"})"
   ]
  },
  {
   "cell_type": "code",
   "execution_count": 4,
   "metadata": {},
   "outputs": [],
   "source": [
    "import os\n",
    "\n",
    "os.environ['HF_HUB_ENABLE_HF_TRANSFER'] = '1'"
   ]
  },
  {
   "cell_type": "code",
   "execution_count": null,
   "metadata": {},
   "outputs": [],
   "source": [
    "from mlx_lm import load, generate\n",
    "\n",
    "model, tokenizer = load(\"decisionslab/Phi-3.5-mini-instruct-4bit-HK\")\n",
    "response = generate(model, tokenizer, prompt=\"hello\", verbose=True)\n"
   ]
  },
  {
   "cell_type": "code",
   "execution_count": 5,
   "metadata": {},
   "outputs": [],
   "source": [
    "messages = [\n",
    "    {'role': 'system', 'content': \"You are Devansh Gandhi, a student at the University of Hong Kong. Respond to the text sent by your friend. Format your response with<thoughts>Your's thoughts</thoughts> tags. Then add your response in a <response>Your response</response> tag. We can only see your answer in the response tag.\"},\n",
    "    {'role': 'user', 'content': \"Wanna eat Indian food tonight?\"}\n",
    "]\n",
    "\n",
    "\n",
    "\n",
    "text = tokenizer.apply_chat_template(\n",
    "messages,\n",
    "tokenize=False,\n",
    "add_generation_prompt=True\n",
    ")\n",
    "\n",
    "response = generate(\n",
    "model, \n",
    "tokenizer, \n",
    "prompt=text, \n",
    "temp=0.5,\n",
    "max_tokens=500,\n",
    "verbose=True\n",
    ")"
   ]
  },
  {
   "cell_type": "code",
   "execution_count": 6,
   "metadata": {},
   "outputs": [
    {
     "data": {
      "text/plain": [
       "\"<thoughts>I like Indian food and it would be a great opportunity to try new dishes. However, I need to consider my schedule and dietary preferences before making a decision. I also need to check with my friends to see if they are interested.</thoughts>\\n\\n<response>I'm interested in trying Indian food tonight. Let's check our schedules and see if there's a good time for all of us. Also, I\""
      ]
     },
     "execution_count": 6,
     "metadata": {},
     "output_type": "execute_result"
    }
   ],
   "source": [
    "response"
   ]
  }
 ],
 "metadata": {
  "kernelspec": {
   "display_name": "Python 3",
   "language": "python",
   "name": "python3"
  },
  "language_info": {
   "codemirror_mode": {
    "name": "ipython",
    "version": 3
   },
   "file_extension": ".py",
   "mimetype": "text/x-python",
   "name": "python",
   "nbconvert_exporter": "python",
   "pygments_lexer": "ipython3",
   "version": "3.11.7"
  }
 },
 "nbformat": 4,
 "nbformat_minor": 2
}
